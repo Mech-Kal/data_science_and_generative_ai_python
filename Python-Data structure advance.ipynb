{
 "cells": [
  {
   "cell_type": "code",
   "execution_count": 10,
   "metadata": {},
   "outputs": [
    {
     "name": "stdout",
     "output_type": "stream",
     "text": [
      "\n"
     ]
    }
   ],
   "source": [
    "# Q1 write a code to reverse the string #\n",
    "string= input(\"enter a string\")\n",
    "\n",
    "string2= string[::-1]\n",
    "print(string2) "
   ]
  },
  {
   "cell_type": "code",
   "execution_count": 12,
   "metadata": {},
   "outputs": [
    {
     "name": "stdout",
     "output_type": "stream",
     "text": [
      "3\n"
     ]
    }
   ],
   "source": [
    "# Q2 wirte a program to count the vowels in a string #\n",
    "string= input(\"enter a string\")\n",
    "vowels = [\"a\",\"e\",\"i\",\"o\",\"u\"]\n",
    "\n",
    "count = 0\n",
    "for a in string:\n",
    "    if a in vowels:\n",
    "        count +=1\n",
    "\n",
    "print(count) "
   ]
  },
  {
   "cell_type": "code",
   "execution_count": 14,
   "metadata": {},
   "outputs": [
    {
     "name": "stdout",
     "output_type": "stream",
     "text": [
      "not pallandrom\n"
     ]
    }
   ],
   "source": [
    "# Q3 to check the given string is pallendrom or not #\n",
    "string= input(\"enter a string: \")\n",
    "a= len(string)\n",
    "n= round(a/2)\n",
    "k = True\n",
    "for i in range(0, n):\n",
    "    if string[i] != string[a-1-i]:\n",
    "        k=False\n",
    "        break\n",
    "\n",
    "if k:\n",
    "    print(\"pallandrom\")\n",
    "else:\n",
    "    print(\"not pallandrom\")"
   ]
  },
  {
   "cell_type": "code",
   "execution_count": 16,
   "metadata": {},
   "outputs": [
    {
     "name": "stdout",
     "output_type": "stream",
     "text": [
      "anagram\n"
     ]
    }
   ],
   "source": [
    "# To check wether given 2 strings are anagrams of each other #\n",
    "string1= input(\"enter a string1: \")\n",
    "a1= len(string1)\n",
    "string= input(\"enter a string: \")\n",
    "a= len(string)\n",
    "\n",
    "if sorted(string1)==sorted(string):\n",
    "    print(\"anagram\")\n",
    "else:\n",
    "    print(\"not\")"
   ]
  },
  {
   "cell_type": "code",
   "execution_count": 17,
   "metadata": {},
   "outputs": [
    {
     "name": "stdout",
     "output_type": "stream",
     "text": [
      "1\n"
     ]
    }
   ],
   "source": [
    "# Q5 write a code to count all the number of occurance of substring in a string # \n",
    "string1= input(\"enter a string: \")\n",
    "string2= input(\"enter a string: \")\n",
    "count=0\n",
    "for i in range(0,len(string1)-1):\n",
    "    if string2 in string1[i::]:\n",
    "        count+=1\n",
    "print(count)"
   ]
  },
  {
   "cell_type": "code",
   "execution_count": 23,
   "metadata": {},
   "outputs": [
    {
     "name": "stdout",
     "output_type": "stream",
     "text": [
      "['k', 'a', 'l', 'p', 'a', 'k']\n",
      "{'k': 2, 'a': 2, 'l': 1, 'p': 1}\n"
     ]
    }
   ],
   "source": [
    "# Q6 write a code to do a basic string compressoin using the count of repeated characters #\n",
    "\n",
    "my_string= input(\"enter your string\")\n",
    "\n",
    "\n",
    "thisdict = {}\n",
    "\n",
    "for i in my_string:\n",
    "    if i in thisdict:\n",
    "      thisdict[i]+=1\n",
    "    else:\n",
    "      thisdict[i]=1\n",
    "\n",
    "print(thisdict)"
   ]
  },
  {
   "cell_type": "code",
   "execution_count": 26,
   "metadata": {},
   "outputs": [
    {
     "name": "stdout",
     "output_type": "stream",
     "text": [
      "uniqie string\n"
     ]
    }
   ],
   "source": [
    "# Q7 check if all character are unique in string #\n",
    "\n",
    "my_string= input(\"enter your string\")\n",
    "my_list = []\n",
    "n = True\n",
    "for i in my_string:\n",
    "    if i not in my_list:\n",
    "        my_list += i\n",
    "    else:\n",
    "        n= False\n",
    "        break\n",
    "if n:\n",
    "    print(\"uniqie string\")\n",
    "else:\n",
    "    print(\"string is not unique\")\n",
    "\n"
   ]
  },
  {
   "cell_type": "code",
   "execution_count": 29,
   "metadata": {},
   "outputs": [
    {
     "name": "stdout",
     "output_type": "stream",
     "text": [
      "KALPAK\n",
      "kalpak\n"
     ]
    }
   ],
   "source": [
    "# Q8 convert upper or lower case #\n",
    "\n",
    "my_string= input(\"enter your string\")\n",
    "\n",
    "string1 = my_string.upper()\n",
    "string2= my_string.lower()\n",
    "\n",
    "print(string1)\n",
    "print(string2)\n"
   ]
  },
  {
   "cell_type": "code",
   "execution_count": 2,
   "metadata": {},
   "outputs": [
    {
     "name": "stdout",
     "output_type": "stream",
     "text": [
      "bui iubjm iubjm h v\n",
      "no. of words: 5\n"
     ]
    }
   ],
   "source": [
    "# Q9 Count no. of words #\n",
    "\n",
    "my_string= input(\"enter your string\")\n",
    "\n",
    "count= len(my_string.split())\n",
    "print(my_string)\n",
    "print(f\"no. of words: {count}\")"
   ]
  },
  {
   "cell_type": "code",
   "execution_count": 6,
   "metadata": {},
   "outputs": [
    {
     "name": "stdout",
     "output_type": "stream",
     "text": [
      "ghjasdfg\n"
     ]
    }
   ],
   "source": [
    "# Q10 concat a string without use of = #\n",
    "string1 = input(\"string 1\")\n",
    "string2= input(\"string 2\")\n",
    "\n",
    "print(\"\".join([string1,string2]))"
   ]
  },
  {
   "cell_type": "code",
   "execution_count": 7,
   "metadata": {},
   "outputs": [
    {
     "name": "stdout",
     "output_type": "stream",
     "text": [
      "fghjuyhgbnjhbngb\n"
     ]
    }
   ],
   "source": [
    "# Q11 write a code to eliminate all the occurance of specific element #\n",
    "\n",
    "string= input(\"enter the string\")\n",
    "elment= input(\"element to be removed\")\n",
    "print(string)\n",
    "for a in string:\n",
    "    if a==elment:\n",
    "        string= string.replace(a , \"\")\n",
    "print(string)"
   ]
  },
  {
   "cell_type": "code",
   "execution_count": 14,
   "metadata": {},
   "outputs": [
    {
     "name": "stdout",
     "output_type": "stream",
     "text": [
      "[20, 56, 48, 75, 43, 95, 34, 56]\n",
      "[34, 43, 75, 48, 20, 56, 95]\n",
      "[20, 34, 43, 48, 56, 75, 95]\n"
     ]
    }
   ],
   "source": [
    "# Q12 to find the second largest integer in given list #\n",
    "my_list= [20,56,48,75,43,95,34,56]\n",
    "print(my_list)\n",
    "\n",
    "list1 = list(set(my_list))\n",
    "print(list1)\n",
    "list1.sort()\n",
    "\n",
    "print(list1)"
   ]
  },
  {
   "cell_type": "code",
   "execution_count": 16,
   "metadata": {},
   "outputs": [
    {
     "name": "stdout",
     "output_type": "stream",
     "text": [
      "{1: 3, 2: 2, 3: 2, 4: 3, 5: 4, 6: 2, 13: 1, 25: 1, 26: 1}\n"
     ]
    }
   ],
   "source": [
    "# Q13 create a dictionary of elment of list as key and their occurance as value #\n",
    "my_list= [1,2,3,4,1,5,25,4,26,13,5,5,2,6,1,3,6,5,4]\n",
    "my_list.sort()\n",
    "my_dict= {}\n",
    "\n",
    "for a in my_list:\n",
    "    if a in my_dict:\n",
    "        my_dict[a]+=1\n",
    "    else:\n",
    "        my_dict[a]=1\n",
    "print(my_dict)\n"
   ]
  },
  {
   "cell_type": "code",
   "execution_count": 18,
   "metadata": {},
   "outputs": [
    {
     "name": "stdout",
     "output_type": "stream",
     "text": [
      "my list: [1, 2, 4, 2, 48, 24, 75, 1, 5, 542, 571, 8, 1, 5, 7, 4, 55, 484, 247, 42]\n",
      "20\n",
      "10\n",
      "[42, 247, 484, 55, 4, 7, 5, 1, 8, 571, 542, 5, 1, 75, 24, 48, 2, 4, 2, 1]\n"
     ]
    }
   ],
   "source": [
    "# Q14 reverse a list without using inbuilt function # \n",
    "\n",
    "my_list=[1,2,4,2,48,24,75,1,5,542,571,8,1,5,7,4,55,484,247,42]\n",
    "print(f\"my list: {my_list}\")\n",
    "\n",
    "# list= my_list.copy()\n",
    "# list.sort()\n",
    "# list.reverse()\n",
    "\n",
    "# print(list)\n",
    "\n",
    "n = len(my_list)\n",
    "print(n)\n",
    "m=round(n/2)\n",
    "print(m)\n",
    "for i in range(0,m):\n",
    "    a=my_list[i]\n",
    "    my_list[i]=my_list[n-i-1]\n",
    "    my_list[n-i-1]=a\n",
    "print(my_list)\n"
   ]
  },
  {
   "cell_type": "code",
   "execution_count": 2,
   "metadata": {},
   "outputs": [
    {
     "name": "stdout",
     "output_type": "stream",
     "text": [
      "[5, 2, 5, 3, 4, 5, 6, 1, 3, 8, 9, 455, 554, 36, 454, 554]\n"
     ]
    }
   ],
   "source": [
    "# find a way to remove duplicate while preserving the order of list #\n",
    "\n",
    "my_list= [1,2,5,1,5,2,5,3,4,5,6,8,1,3,8,9,454,455,554,36,454,554]\n",
    "list= []\n",
    "\n",
    "for a in my_list:\n",
    "    if a in list:\n",
    "        my_list.remove(a)\n",
    "    else:\n",
    "        list.append(a)\n",
    "print(my_list)"
   ]
  },
  {
   "cell_type": "code",
   "execution_count": 1,
   "metadata": {},
   "outputs": [
    {
     "name": "stdout",
     "output_type": "stream",
     "text": [
      "sorted\n"
     ]
    }
   ],
   "source": [
    "# check if the given list is sort (assending or desending) or not #\n",
    "\n",
    "my_list= [1,2,3,4,5,6,7,8,9]\n",
    "\n",
    "list= my_list.copy()\n",
    "list.sort()\n",
    "f=True\n",
    "n= len(my_list)\n",
    "\n",
    "for i in range(0,n):\n",
    "    if my_list[i]==list[i] or my_list[i]==list[n-i-1]:\n",
    "        continue\n",
    "    else:\n",
    "        f= False\n",
    "        break\n",
    "\n",
    "if f:\n",
    "    print(\"sorted\")\n",
    "else:\n",
    "    print(\"not sorted\")\n"
   ]
  },
  {
   "cell_type": "code",
   "execution_count": 3,
   "metadata": {},
   "outputs": [
    {
     "name": "stdout",
     "output_type": "stream",
     "text": [
      "[1, 2, 3, 4, 5, 6, 7, 9, 9, 11, 13, 16, 18, 20, 22, 45, 50, 61, 65]\n"
     ]
    }
   ],
   "source": [
    "# Q17 merge 2 sorted list #\n",
    "list1= [1,2,3,4,9,11,13,45,50]\n",
    "list2= [5,6,7,9,16,18,20,22,61,65]\n",
    "\n",
    "list3= list1+list2\n",
    "\n",
    "# as we don't know wether both the list are assending or assending\n",
    "\n",
    "list3.sort()\n",
    "\n",
    "print(list3)"
   ]
  },
  {
   "cell_type": "code",
   "execution_count": 6,
   "metadata": {},
   "outputs": [
    {
     "name": "stdout",
     "output_type": "stream",
     "text": [
      "[1, 2, 3, 4, 9, 111, 25, 78]\n"
     ]
    }
   ],
   "source": [
    "# Q18 to find the intersection of 2 given list #\n",
    "list= [1,2,3,4,5,6,7,8,9,100,111,1,25,333,78]\n",
    "list1= [1,2,3,4,9,11,13,45,50,12,44,111,35,1,25,877,78]\n",
    "list2=[]\n",
    "for n in list:\n",
    "    if n in list1 and n not in list2:\n",
    "        list2.append(n)\n",
    "print(list2)\n"
   ]
  },
  {
   "cell_type": "code",
   "execution_count": 7,
   "metadata": {},
   "outputs": [
    {
     "name": "stdout",
     "output_type": "stream",
     "text": [
      "[5, 6, 7, 8, 100, 333]\n"
     ]
    }
   ],
   "source": [
    "# Q19 union of two list without duplicate #\n",
    "list= [1,2,3,4,5,6,7,8,9,100,111,1,25,333,78]\n",
    "list1= [1,2,3,4,9,11,13,45,50,12,44,111,35,1,25,877,78]\n",
    "list2=[]\n",
    "for n in list:\n",
    "    if n not in list1 and n not in list2:\n",
    "        list2.append(n)\n",
    "print(list2)\n",
    "\n"
   ]
  },
  {
   "cell_type": "code",
   "execution_count": 9,
   "metadata": {},
   "outputs": [
    {
     "name": "stdout",
     "output_type": "stream",
     "text": [
      "[5, 1, 4, 2, 3]\n"
     ]
    }
   ],
   "source": [
    "# Q20 shufftel a list without a built in package  #\n",
    "\n",
    "my_list = [1, 2, 3, 4, 5] \n",
    "for i in range(len(my_list)-1, 0, -1): \n",
    "    j = i // 2  # or any other calculation to get a pseudo-random index \n",
    "    my_list[i], my_list[j] = my_list[j], my_list[i] \n",
    "\n",
    "print(my_list)"
   ]
  },
  {
   "cell_type": "code",
   "execution_count": 19,
   "metadata": {},
   "outputs": [
    {
     "name": "stdout",
     "output_type": "stream",
     "text": [
      "(1, 6, 45, 8)\n"
     ]
    }
   ],
   "source": [
    "# Q21 write a code that take 2 tuple as input and give another tuple as output containing all the common element of both tuples #\n",
    "# [(1,2,5,4,6,7,45,68,8),(45,3,8,1,6,8,9,1)]\n",
    "user_input = input(\"Enter a list of tuples (e.g., [(1, 2), (3, 4)]): \") \n",
    " \n",
    "# Convert the user input string to a list of tuples using eval() \n",
    "tuple_list = eval(user_input) \n",
    "\n",
    "tuple1 = tuple_list[0]\n",
    "tuple2 = tuple_list[1]\n",
    "list=[]\n",
    "for element in tuple1:\n",
    "    #print(element)\n",
    "    if element in tuple2 and element not in list:\n",
    "        list.append(element)\n",
    "list= tuple(list)\n",
    "print(list)\n",
    "\n"
   ]
  },
  {
   "cell_type": "code",
   "execution_count": 20,
   "metadata": {},
   "outputs": [
    {
     "name": "stdout",
     "output_type": "stream",
     "text": [
      "{8, 1, 45, 6}\n"
     ]
    }
   ],
   "source": [
    "# Q22 input 2 set and output intersection #\n",
    "\n",
    "# [{1,2,5,4,6,7,45,68,8},{45,3,8,1,6,8,9,1}]\n",
    "user_input = input(\"Enter a list of set (e.g., [(1, 2), (3, 4)]): \") \n",
    " \n",
    "# Convert the user input string to a list of tuples using eval() \n",
    "set_list = eval(user_input) \n",
    "\n",
    "set1 = set_list[0]\n",
    "set2 = set_list[1]\n",
    "\n",
    "set3 = set1 & set2\n",
    "\n",
    "print(set3)\n",
    "\n"
   ]
  },
  {
   "cell_type": "code",
   "execution_count": 2,
   "metadata": {},
   "outputs": [
    {
     "name": "stdout",
     "output_type": "stream",
     "text": [
      "(1, 2, 5, 4, 6, 7, 45, 68, 8, 45, 3, 8, 1, 6, 8, 9, 1)\n"
     ]
    }
   ],
   "source": [
    "# Q23 take input as 2 tuple and concat it #\n",
    "# [(1,2,5,4,6,7,45,68,8),(45,3,8,1,6,8,9,1)]\n",
    "user_input= input(\"enter input like [(a,b),(c,d,c)]\")\n",
    "\n",
    "tuple_list= eval(user_input)\n",
    "\n",
    "def tuple_concat(tuple1,tuple2):\n",
    "    return tuple1+tuple2\n",
    "\n",
    "tuple3 = tuple_concat(tuple_list[0],tuple_list[1])\n",
    "\n",
    "\n",
    "print(tuple3)"
   ]
  },
  {
   "cell_type": "code",
   "execution_count": 5,
   "metadata": {},
   "outputs": [
    {
     "name": "stdout",
     "output_type": "stream",
     "text": [
      "fghjkl\n",
      "cfgthj\n",
      "fghj\n"
     ]
    }
   ],
   "source": [
    "# Q24 input as 2 string and give element present in string 1 and not in string 2 #\n",
    "\n",
    "string1= input(\"string1\")\n",
    "string2= input(\"string2\")\n",
    "\n",
    "string3= \"\"\n",
    "\n",
    "for i in string1:\n",
    "    if i in string2:\n",
    "        string3 += i\n",
    "print(string1)\n",
    "print(string2)\n",
    "print(string3)"
   ]
  },
  {
   "cell_type": "code",
   "execution_count": 7,
   "metadata": {},
   "outputs": [
    {
     "name": "stdout",
     "output_type": "stream",
     "text": [
      "(3, 6, 5, 4, 7, 8, 9, 12, 45)\n"
     ]
    }
   ],
   "source": [
    "# Q25 Create a code that takes a tuple and two integers as input. The function should return a new tuple containing elements from the original tuple within the specified range of indices. #\n",
    "def slice_tuple(tuple_data, start_index, end_index):\n",
    "  return tuple(tuple_data[start_index:end_index])\n",
    "\n",
    "# Example usage: [(1,2,3,6,5,4,7,8,9,12,45,96,79,55,79,53),(2,11)]\n",
    "user_input=input(\"enter input as [(tuple),[start,end]]\")\n",
    "list= eval(user_input)\n",
    "my_tuple = list[0]\n",
    "start= list[1][0]\n",
    "end= list[1][1]\n",
    "new_tuple = slice_tuple(my_tuple, start, end)\n",
    "print(new_tuple)"
   ]
  },
  {
   "cell_type": "code",
   "execution_count": 8,
   "metadata": {},
   "outputs": [
    {
     "name": "stdout",
     "output_type": "stream",
     "text": [
      "The union of the sets is: {1, 2, 3, 4, 5, 6, 7, 8, 9, 15, 45, 52, 53, 56, 57, 63, 511}\n"
     ]
    }
   ],
   "source": [
    "# Q26 Write a Python code that asks the user to enter two sets of characters, then prints the combined set of all unique characters from both inputs. #\n",
    "\n",
    "def find_union(set1, set2):\n",
    " \n",
    "  union_set = set1 | set2\n",
    "  return union_set\n",
    "\n",
    "# Get input from the user eg: [{1,2,5,4,5,6,9,7,5,6,3,7,9,2,5,3,511,57,45,63,15},{45,52,8,56,45,1,2,5,5,3,6,9,8,5,45,53}]\n",
    "user_input=input(\"enter input as [{set1},{set2}]\")\n",
    "list= eval(user_input)\n",
    "set1=list[0]\n",
    "set2=list[1]\n",
    "\n",
    "# Find and print the union\n",
    "result = find_union(set1, set2)\n",
    "print(\"The union of the sets is:\", result)\n"
   ]
  },
  {
   "cell_type": "code",
   "execution_count": 1,
   "metadata": {},
   "outputs": [
    {
     "name": "stdout",
     "output_type": "stream",
     "text": [
      "<class 'tuple'>\n",
      "Minimum value: 1\n",
      "Maximum value: 1000\n"
     ]
    }
   ],
   "source": [
    "# Q27 Develop a Python code that takes a tuple of integers as input. The function should return the minimum and maximum values from the tuple using tuple unpacking. #\n",
    "\n",
    "user_input=input(\"enter input as : (a,b,c)\")\n",
    "num= eval(user_input)\n",
    "print(type(num))\n",
    "print(\"Minimum value:\", min(num))\n",
    "print(\"Maximum value:\", max(num))\n"
   ]
  },
  {
   "cell_type": "code",
   "execution_count": null,
   "metadata": {},
   "outputs": [],
   "source": [
    "# Q28 Create a Python code that defines two sets of integers. Then print the union, intersection, and difference of these two sets #\n",
    "\n",
    "def set_operations(set1, set2):\n",
    "\n",
    "  union_set = set1 | set2\n",
    "  intersection_set = set1 & set2\n",
    "  difference_set = set1 - set2\n",
    "\n",
    "  print(\"Union:\", union_set)\n",
    "  print(\"Intersection:\", intersection_set)\n",
    "  print(\"Difference (set1 - set2):\", difference_set)\n",
    "\n",
    "# Example usage:\n",
    "set_a = {1, 2, 3, 4, 5}\n",
    "set_b = {3, 4, 5, 6, 7}\n",
    "\n",
    "set_operations(set_a, set_b)\n"
   ]
  },
  {
   "cell_type": "code",
   "execution_count": 3,
   "metadata": {},
   "outputs": [
    {
     "name": "stdout",
     "output_type": "stream",
     "text": [
      "Number of occurrences: 3\n"
     ]
    }
   ],
   "source": [
    "# Q29 Write a Python code that takes a tuple and an element as input. The function should return the count of occurrences of the given element in the tuple.  #\n",
    "\n",
    "user_input=input(\"enter input as : [(a,b,c),a]\")\n",
    "list= eval(user_input)\n",
    "\n",
    "# Example usage:[(1, 2, 3, 2, 4, 2, 5),2]\n",
    "my_tuple = list[0]\n",
    "element= list[1]\n",
    "\n",
    "print(\"Number of occurrences:\", my_tuple.count(element))"
   ]
  },
  {
   "cell_type": "code",
   "execution_count": null,
   "metadata": {},
   "outputs": [],
   "source": [
    "# Q30 Develop a code that prompts the user to input two sets of strings. Then print the symmetric difference of these two sets.#\n",
    "\n",
    "def symmetric_difference(set1, set2):\n",
    "\n",
    "  return set1 ^ set2\n",
    "\n",
    "def main():\n",
    "  set1 = set(input(\"Enter the first set of strings (comma-separated): \").split(\",\"))\n",
    "  set2 = set(input(\"Enter the second set of strings (comma-separated): \").split(\",\"))\n",
    "\n",
    "  symmetric_diff = symmetric_difference(set1, set2)\n",
    "  print(\"Symmetric difference:\", symmetric_diff)\n",
    "\n",
    "if __name__ == \"__main__\":\n",
    "  main()"
   ]
  },
  {
   "cell_type": "code",
   "execution_count": null,
   "metadata": {},
   "outputs": [],
   "source": [
    "# Q31 Write a Python code that takes a list of words as input and returns a dictionary where the keys are unique words and the values are the frequencies of those words in the input list #\n",
    "\n",
    "def word_frequency(word_list):\n",
    "  word_count = {}\n",
    "  for word in word_list:\n",
    "    word_count[word] = word_count.get(word, 0) + 1\n",
    "  return word_count\n",
    "\n",
    "# Example usage:\n",
    "words = [\"apple\", \"banana\", \"apple\", \"orange\", \"banana\", \"apple\"]\n",
    "frequency_dict = word_frequency(words)\n",
    "print(frequency_dict)\n"
   ]
  },
  {
   "cell_type": "code",
   "execution_count": null,
   "metadata": {},
   "outputs": [],
   "source": [
    "# Q32 Write a Python code that takes two dictionaries as input and merges them into a single dictionary. If there are common keys, the values should be added together. #\n",
    "\n",
    "def merge_dictionaries(dict1, dict2):\n",
    "  merged_dict = dict1.copy()  # Create a copy to avoid modifying original dict1\n",
    "  for key, value in dict2.items():\n",
    "    if key in merged_dict:\n",
    "      merged_dict[key] += value\n",
    "    else:\n",
    "      merged_dict[key] = value\n",
    "  return merged_dict\n",
    "\n",
    "# Example usage:\n",
    "dict1 = {'a': 1, 'b': 2, 'c': 3}\n",
    "dict2 = {'b': 4, 'd': 5}\n",
    "result = merge_dictionaries(dict1, dict2)\n",
    "print(result)"
   ]
  },
  {
   "cell_type": "code",
   "execution_count": null,
   "metadata": {},
   "outputs": [],
   "source": [
    "# Q33 Create a function that accesses a value in a nested dictionary. The function should take the dictionary and a list of keys as input. It should return the corresponding value if all keys exist, otherwise return None #\n",
    "\n",
    "def access_nested_value(data, keys):\n",
    "  try:\n",
    "    for key in keys:\n",
    "      data = data[key]\n",
    "    return data\n",
    "  except (KeyError, TypeError):\n",
    "    return None\n",
    "\n",
    "# Example usage:\n",
    "nested_dict = {'a': {'b': {'c': 1}}}\n",
    "keys_to_access = ['a', 'b', 'c']\n",
    "value = access_nested_value(nested_dict, keys_to_access)\n",
    "print(value)  # Output: 1\n",
    "\n",
    "# Example with missing key:\n",
    "keys_to_access = ['a', 'x', 'c']\n",
    "value = access_nested_value(nested_dict, keys_to_access)\n",
    "print(value)\n"
   ]
  },
  {
   "cell_type": "code",
   "execution_count": null,
   "metadata": {},
   "outputs": [],
   "source": [
    "# Q34 Create a function that takes a dictionary as input and returns a new dictionary sorted by its values. You can choose to sort in ascending or descending order. #\n",
    "\n",
    "def sort_dictionary_by_value(dictionary, ascending=True):\n",
    "  sorted_items = sorted(dictionary.items(), key=lambda item: item[1], reverse=not ascending)\n",
    "  return dict(sorted_items)\n",
    "\n",
    "# Example usage:\n",
    "my_dict = {'a': 3, 'b': 1, 'c': 2}\n",
    "\n",
    "# Ascending order\n",
    "sorted_dict_asc = sort_dictionary_by_value(my_dict)\n",
    "print(sorted_dict_asc)  # Output: {'b': 1, 'c': 2, 'a': 3}\n",
    "\n",
    "# Descending order\n",
    "sorted_dict_desc = sort_dictionary_by_value(my_dict, ascending=False)\n",
    "print(sorted_dict_desc)\n"
   ]
  },
  {
   "cell_type": "code",
   "execution_count": null,
   "metadata": {},
   "outputs": [],
   "source": [
    "# Q35 Write a Python code that inverts a dictionary, swapping keys and values. If multiple keys have the same value, store the keys as a list in the inverted dictionary #\n",
    "\n",
    "def invert_dictionary(dictionary):\n",
    "  inverted_dict = {}\n",
    "  for key, value in dictionary.items():\n",
    "    if value in inverted_dict:\n",
    "      inverted_dict[value].append(key)\n",
    "    else:\n",
    "      inverted_dict[value] = [key]\n",
    "  return inverted_dict\n",
    "\n",
    "# Example usage:\n",
    "original_dict = {'a': 1, 'b': 2, 'c': 2, 'd': 3}\n",
    "inverted_dict = invert_dictionary(original_dict)\n",
    "print(inverted_dict)"
   ]
  }
 ],
 "metadata": {
  "kernelspec": {
   "display_name": "Python 3",
   "language": "python",
   "name": "python3"
  },
  "language_info": {
   "codemirror_mode": {
    "name": "ipython",
    "version": 3
   },
   "file_extension": ".py",
   "mimetype": "text/x-python",
   "name": "python",
   "nbconvert_exporter": "python",
   "pygments_lexer": "ipython3",
   "version": "3.10.0"
  }
 },
 "nbformat": 4,
 "nbformat_minor": 2
}
