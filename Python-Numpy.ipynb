{
 "cells": [
  {
   "cell_type": "code",
   "execution_count": 2,
   "id": "f619fe49",
   "metadata": {},
   "outputs": [
    {
     "name": "stdout",
     "output_type": "stream",
     "text": [
      "Original Array: [1 2 3 4]\n",
      "Array after vectorized addition: [6 7 8 9]\n"
     ]
    }
   ],
   "source": [
    "# 1. Explain the purpose and advantages of NumPy in scientific computing and data analysis.\n",
    "# How does it enhance Python's capabilities for numerical operations?\n",
    "\n",
    "import numpy as np\n",
    "\n",
    "arr = np.array([1, 2, 3, 4])\n",
    "print(\"Original Array:\", arr)\n",
    "print(\"Array after vectorized addition:\", arr + 5)  # Vectorized operation\n"
   ]
  },
  {
   "cell_type": "code",
   "execution_count": 3,
   "id": "66abd2de",
   "metadata": {},
   "outputs": [
    {
     "name": "stdout",
     "output_type": "stream",
     "text": [
      "Mean: 25.0\n",
      "Average (no weights): 25.0\n",
      "Weighted Average: 30.0\n"
     ]
    }
   ],
   "source": [
    "# 2. Compare and contrast np.mean() and np.average() functions in NumPy.\n",
    "# When would you use one over the other?\n",
    "\n",
    "arr = np.array([10, 20, 30, 40])\n",
    "\n",
    "print(\"Mean:\", np.mean(arr))              # Simple mean\n",
    "print(\"Average (no weights):\", np.average(arr))  # Same as mean\n",
    "weights = [1, 2, 3, 4]\n",
    "print(\"Weighted Average:\", np.average(arr, weights=weights))  # Weighted average\n"
   ]
  },
  {
   "cell_type": "code",
   "execution_count": 4,
   "id": "6f61f9bd",
   "metadata": {},
   "outputs": [
    {
     "name": "stdout",
     "output_type": "stream",
     "text": [
      "Reversed 1D: [4 3 2 1]\n",
      "Original 2D:\n",
      " [[1 2]\n",
      " [3 4]]\n",
      "Reversed rows:\n",
      " [[3 4]\n",
      " [1 2]]\n",
      "Reversed columns:\n",
      " [[2 1]\n",
      " [4 3]]\n"
     ]
    }
   ],
   "source": [
    "# 3. Describe the methods for reversing a NumPy array along different axes.\n",
    "# Provide examples for 1D and 2D arrays.\n",
    "\n",
    "# Reversing 1D array\n",
    "arr_1d = np.array([1, 2, 3, 4])\n",
    "print(\"Reversed 1D:\", arr_1d[::-1])\n",
    "\n",
    "# Reversing 2D array rows and columns\n",
    "arr_2d = np.array([[1, 2], [3, 4]])\n",
    "print(\"Original 2D:\\n\", arr_2d)\n",
    "print(\"Reversed rows:\\n\", arr_2d[::-1])\n",
    "print(\"Reversed columns:\\n\", arr_2d[:, ::-1])\n"
   ]
  },
  {
   "cell_type": "code",
   "execution_count": 5,
   "id": "59b24ca4",
   "metadata": {},
   "outputs": [
    {
     "name": "stdout",
     "output_type": "stream",
     "text": [
      "Data type: float64\n",
      "Small int array dtype: int8\n"
     ]
    }
   ],
   "source": [
    "# 4. How can you determine the data type of elements in a NumPy array?\n",
    "# Discuss the importance of data types in memory management and performance.\n",
    "\n",
    "arr = np.array([1.2, 2.3, 3.4])\n",
    "print(\"Data type:\", arr.dtype)  # Shows data type, e.g., float64\n",
    "\n",
    "# dtype helps save memory when using appropriate types\n",
    "small_int_arr = np.array([1, 2, 3], dtype=np.int8)\n",
    "print(\"Small int array dtype:\", small_int_arr.dtype)\n"
   ]
  },
  {
   "cell_type": "code",
   "execution_count": 6,
   "id": "e11fc583",
   "metadata": {},
   "outputs": [
    {
     "name": "stdout",
     "output_type": "stream",
     "text": [
      "NumPy ndarray multiplied by 2: [2 4 6]\n",
      "Python list multiplied by 2: [1, 2, 3, 1, 2, 3]\n"
     ]
    }
   ],
   "source": [
    "# 5. Define ndarrays in NumPy and explain their key features.\n",
    "# How do they differ from standard Python lists?\n",
    "\n",
    "nd_arr = np.array([1, 2, 3])\n",
    "py_list = [1, 2, 3]\n",
    "\n",
    "# NumPy supports vectorized operations\n",
    "print(\"NumPy ndarray multiplied by 2:\", nd_arr * 2)\n",
    "print(\"Python list multiplied by 2:\", py_list * 2)  # List repeats\n"
   ]
  },
  {
   "cell_type": "code",
   "execution_count": 7,
   "id": "339a74ed",
   "metadata": {},
   "outputs": [
    {
     "name": "stdout",
     "output_type": "stream",
     "text": [
      "Sum using NumPy: 499999500000\n"
     ]
    }
   ],
   "source": [
    "# 6. Analyze the performance benefits of NumPy arrays over Python lists for large-scale numerical operations.\n",
    "\n",
    "# NumPy is optimized for speed using C-extensions\n",
    "arr = np.arange(1_000_000)\n",
    "print(\"Sum using NumPy:\", np.sum(arr))  # Fast and efficient\n"
   ]
  },
  {
   "cell_type": "code",
   "execution_count": 8,
   "id": "f74e020f",
   "metadata": {},
   "outputs": [
    {
     "name": "stdout",
     "output_type": "stream",
     "text": [
      "vstack:\n",
      " [[1 2]\n",
      " [3 4]]\n",
      "hstack:\n",
      " [1 2 3 4]\n"
     ]
    }
   ],
   "source": [
    "# 7. Compare vstack() and hstack() functions in NumPy.\n",
    "# Provide examples demonstrating their usage and output.\n",
    "\n",
    "a = np.array([1, 2])\n",
    "b = np.array([3, 4])\n",
    "\n",
    "v_stacked = np.vstack((a, b))\n",
    "h_stacked = np.hstack((a, b))\n",
    "\n",
    "print(\"vstack:\\n\", v_stacked)  # Vertically stack arrays\n",
    "print(\"hstack:\\n\", h_stacked)  # Horizontally stack arrays\n"
   ]
  },
  {
   "cell_type": "code",
   "execution_count": 9,
   "id": "00f0a491",
   "metadata": {},
   "outputs": [
    {
     "name": "stdout",
     "output_type": "stream",
     "text": [
      "Original:\n",
      " [[1 2]\n",
      " [3 4]]\n",
      "fliplr (left to right):\n",
      " [[2 1]\n",
      " [4 3]]\n",
      "flipud (up to down):\n",
      " [[3 4]\n",
      " [1 2]]\n"
     ]
    }
   ],
   "source": [
    "# 8. Explain the differences between fliplr() and flipud() methods in NumPy,\n",
    "# including their effects on various array dimensions.\n",
    "\n",
    "mat = np.array([[1, 2], [3, 4]])\n",
    "\n",
    "print(\"Original:\\n\", mat)\n",
    "print(\"fliplr (left to right):\\n\", np.fliplr(mat))  # Flip columns\n",
    "print(\"flipud (up to down):\\n\", np.flipud(mat))     # Flip rows\n"
   ]
  },
  {
   "cell_type": "code",
   "execution_count": 10,
   "id": "466d4a63",
   "metadata": {},
   "outputs": [
    {
     "name": "stdout",
     "output_type": "stream",
     "text": [
      "Split 1: [10 20]\n",
      "Split 2: [30 40]\n",
      "Split 3: [50]\n"
     ]
    }
   ],
   "source": [
    "# 9. Discuss the functionality of the array_split() method in NumPy.\n",
    "# How does it handle uneven splits?\n",
    "\n",
    "arr = np.array([10, 20, 30, 40, 50])\n",
    "\n",
    "splits = np.array_split(arr, 3)  # Uneven split handled gracefully\n",
    "for idx, s in enumerate(splits):\n",
    "    print(f\"Split {idx + 1}:\", s)\n"
   ]
  },
  {
   "cell_type": "code",
   "execution_count": 11,
   "id": "cee0f5e0",
   "metadata": {},
   "outputs": [
    {
     "name": "stdout",
     "output_type": "stream",
     "text": [
      "Broadcasting scalar (10) to array: [11 12 13]\n",
      "Broadcasting 1D to 2D:\n",
      " [[2 3 4]\n",
      " [3 4 5]\n",
      " [4 5 6]]\n"
     ]
    }
   ],
   "source": [
    "# 10. Explain the concepts of vectorization and broadcasting in NumPy.\n",
    "# How do they contribute to efficient array operations?\n",
    "\n",
    "arr = np.array([1, 2, 3])\n",
    "print(\"Broadcasting scalar (10) to array:\", arr + 10)  # Broadcasting\n",
    "\n",
    "arr2d = np.array([[1], [2], [3]])\n",
    "print(\"Broadcasting 1D to 2D:\\n\", arr2d + arr)  # Broadcasting shapes to match\n"
   ]
  }
 ],
 "metadata": {
  "kernelspec": {
   "display_name": "Python 3",
   "language": "python",
   "name": "python3"
  },
  "language_info": {
   "codemirror_mode": {
    "name": "ipython",
    "version": 3
   },
   "file_extension": ".py",
   "mimetype": "text/x-python",
   "name": "python",
   "nbconvert_exporter": "python",
   "pygments_lexer": "ipython3",
   "version": "3.13.1"
  }
 },
 "nbformat": 4,
 "nbformat_minor": 5
}
