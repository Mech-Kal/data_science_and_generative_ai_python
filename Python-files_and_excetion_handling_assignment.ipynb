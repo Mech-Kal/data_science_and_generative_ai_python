{
 "cells": [
  {
   "cell_type": "code",
   "execution_count": null,
   "metadata": {},
   "outputs": [],
   "source": [
    "# Q4. Write a Python program using multithreading where one thread adds numbers to a list,\n",
    "# and another thread removes numbers from the list. Implement a mechanism to avoid race conditions using threading.Lock.\n",
    "\n",
    "import threading\n",
    "import time\n",
    "\n",
    "shared_list = []\n",
    "lock = threading.Lock()\n",
    "\n",
    "def adder():\n",
    "    for i in range(5):\n",
    "        with lock:\n",
    "            shared_list.append(i)\n",
    "            print(f\"Added: {i}\")\n",
    "        time.sleep(0.5)\n",
    "\n",
    "def remover():\n",
    "    for _ in range(5):\n",
    "        with lock:\n",
    "            if shared_list:\n",
    "                removed = shared_list.pop(0)\n",
    "                print(f\"Removed: {removed}\")\n",
    "            else:\n",
    "                print(\"List is empty, nothing to remove\")\n",
    "        time.sleep(1)\n",
    "\n",
    "t1 = threading.Thread(target=adder)\n",
    "t2 = threading.Thread(target=remover)\n",
    "\n",
    "t1.start()\n",
    "t2.start()\n",
    "\n",
    "t1.join()\n",
    "t2.join()\n",
    "\n",
    "print(\"Final List:\", shared_list)\n"
   ]
  },
  {
   "cell_type": "code",
   "execution_count": null,
   "metadata": {},
   "outputs": [],
   "source": [
    "# Q7. Create a program that uses a thread pool to calculate the factorial of numbers from 1 to 10 concurrently.\n",
    "# Use concurrent.futures.ThreadPoolExecutor to manage the threads.\n",
    "\n",
    "from concurrent.futures import ThreadPoolExecutor\n",
    "import math\n",
    "\n",
    "def factorial(n):\n",
    "    result = math.factorial(n)\n",
    "    print(f\"Factorial of {n} is {result}\")\n",
    "    return result\n",
    "\n",
    "with ThreadPoolExecutor(max_workers=5) as executor:\n",
    "    executor.map(factorial, range(1, 11))\n"
   ]
  },
  {
   "cell_type": "code",
   "execution_count": null,
   "metadata": {},
   "outputs": [],
   "source": [
    "# Q8. Create a Python program that uses multiprocessing.Pool to compute the square of numbers from 1 to 10 in parallel.\n",
    "# Measure the time taken to perform this computation using a pool of different sizes (e.g., 2, 4, 8 processes).\n",
    "\n",
    "from multiprocessing import Pool\n",
    "import time\n",
    "\n",
    "def square(n):\n",
    "    return n * n\n",
    "\n",
    "if __name__ == '__main__':\n",
    "    numbers = list(range(1, 11))\n",
    "    for pool_size in [2, 4, 8]:\n",
    "        start = time.time()\n",
    "        with Pool(processes=pool_size) as pool:\n",
    "            results = pool.map(square, numbers)\n",
    "        end = time.time()\n",
    "        print(f\"Pool size {pool_size}: Results = {results}, Time taken = {end - start:.4f} seconds\")\n"
   ]
  }
 ],
 "metadata": {
  "kernelspec": {
   "display_name": "Python 3",
   "language": "python",
   "name": "python3"
  },
  "language_info": {
   "codemirror_mode": {
    "name": "ipython",
    "version": 3
   },
   "file_extension": ".py",
   "mimetype": "text/x-python",
   "name": "python",
   "nbconvert_exporter": "python",
   "pygments_lexer": "ipython3",
   "version": "3.13.1"
  }
 },
 "nbformat": 4,
 "nbformat_minor": 2
}
