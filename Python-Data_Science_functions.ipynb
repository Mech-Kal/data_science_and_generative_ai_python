{
 "cells": [
  {
   "cell_type": "code",
   "execution_count": 7,
   "metadata": {},
   "outputs": [],
   "source": [
    "# 1. Write a Python function that takes a list of numbers as input and returns the sum of all even numbers in the list.\n",
    "def sum_even_numbers(numbers):\n",
    "    return sum(num for num in numbers if num % 2 == 0)\n"
   ]
  },
  {
   "cell_type": "code",
   "execution_count": 8,
   "metadata": {},
   "outputs": [],
   "source": [
    "# 2. Create a Python function that accepts a string and returns the reverse of that string.\n",
    "def reverse_string(s):\n",
    "    return s[::-1]"
   ]
  },
  {
   "cell_type": "code",
   "execution_count": 9,
   "metadata": {},
   "outputs": [],
   "source": [
    "# 3. Implement a Python function that takes a list of integers and returns a new list containing the squares of each number.\n",
    "def square_numbers(numbers):\n",
    "    return [num ** 2 for num in numbers]"
   ]
  },
  {
   "cell_type": "code",
   "execution_count": 10,
   "metadata": {},
   "outputs": [],
   "source": [
    "# 4. Write a Python function that checks if a given number is prime or not from 1 to 200.\n",
    "def is_prime(n):\n",
    "    if n < 2:\n",
    "        return False\n",
    "    for i in range(2, int(n ** 0.5) + 1):\n",
    "        if n % i == 0:\n",
    "            return False\n",
    "    return True"
   ]
  },
  {
   "cell_type": "code",
   "execution_count": 11,
   "metadata": {},
   "outputs": [],
   "source": [
    "# 5. Create an iterator class in Python that generates the Fibonacci sequence up to a specified number of terms.\n",
    "class FibonacciIterator:\n",
    "    def __init__(self, n):\n",
    "        self.n, self.a, self.b, self.count = n, 0, 1, 0\n",
    "\n",
    "    def __iter__(self):\n",
    "        return self\n",
    "\n",
    "    def __next__(self):\n",
    "        if self.count >= self.n:\n",
    "            raise StopIteration\n",
    "        result = self.a\n",
    "        self.a, self.b = self.b, self.a + self.b\n",
    "        self.count += 1\n",
    "        return result"
   ]
  },
  {
   "cell_type": "code",
   "execution_count": 2,
   "metadata": {},
   "outputs": [],
   "source": [
    "# 6. Write a generator function in Python that yields the powers of 2 up to a given exponent.\n",
    "def power_of_two(exponent):\n",
    "    for i in range(exponent + 1):\n",
    "        yield 2 ** i"
   ]
  },
  {
   "cell_type": "code",
   "execution_count": 3,
   "metadata": {},
   "outputs": [],
   "source": [
    "# 7. Implement a generator function that reads a file line by line and yields each line as a string.\n",
    "def read_file_line_by_line(file_path):\n",
    "    with open(file_path, 'r') as file:\n",
    "        for line in file:\n",
    "            yield line.strip()"
   ]
  },
  {
   "cell_type": "code",
   "execution_count": 4,
   "metadata": {},
   "outputs": [],
   "source": [
    "# 8. Use a lambda function in Python to sort a list of tuples based on the second element of each tuple.\n",
    "sort_tuples = lambda tuples_list: sorted(tuples_list, key=lambda x: x[1])"
   ]
  },
  {
   "cell_type": "code",
   "execution_count": 5,
   "metadata": {},
   "outputs": [],
   "source": [
    "# 9. Write a Python program that uses `map()` to convert a list of temperatures from Celsius to Fahrenheit.\n",
    "celsius_to_fahrenheit = lambda temps: list(map(lambda c: (c * 9/5) + 32, temps))\n"
   ]
  },
  {
   "cell_type": "code",
   "execution_count": 6,
   "metadata": {},
   "outputs": [],
   "source": [
    "# 10. Create a Python program that uses `filter()` to remove all the vowels from a given string.\n",
    "remove_vowels = lambda s: \"\".join(filter(lambda ch: ch.lower() not in \"aeiou\", s))"
   ]
  },
  {
   "cell_type": "code",
   "execution_count": 1,
   "metadata": {},
   "outputs": [
    {
     "name": "stdout",
     "output_type": "stream",
     "text": [
      "[(34587, 163.8), (98762, 284.0), (77226, 108.85000000000001), (88112, 84.97)]\n"
     ]
    }
   ],
   "source": [
    "# 11) Imagine an accounting routine used in a book shop.\n",
    "# Write a Python program that returns a list with 2-tuples.\n",
    "# Each tuple consists of the order number and the product of the price per item and the quantity.\n",
    "# The product should be increased by 10,- € if the value of the order is smaller than 100,00 €.\n",
    "# Use lambda and map.\n",
    "\n",
    "orders = [\n",
    "    (34587, \"Learning Python, Mark Lutz\", 4, 40.95),\n",
    "    (98762, \"Programming Python, Mark Lutz\", 5, 56.80),\n",
    "    (77226, \"Head First Python, Paul Barry\", 3, 32.95),\n",
    "    (88112, \"Einführung in Python3, Bernd Klein\", 3, 24.99)\n",
    "]\n",
    "\n",
    "# Using map and lambda to process orders\n",
    "order_totals = list(map(lambda order: (order[0], \n",
    "                                       order[2] * order[3] if order[2] * order[3] >= 100 \n",
    "                                       else order[2] * order[3] + 10), orders))\n",
    "\n",
    "print(order_totals)\n"
   ]
  }
 ],
 "metadata": {
  "kernelspec": {
   "display_name": "Python 3",
   "language": "python",
   "name": "python3"
  },
  "language_info": {
   "codemirror_mode": {
    "name": "ipython",
    "version": 3
   },
   "file_extension": ".py",
   "mimetype": "text/x-python",
   "name": "python",
   "nbconvert_exporter": "python",
   "pygments_lexer": "ipython3",
   "version": "3.10.0"
  }
 },
 "nbformat": 4,
 "nbformat_minor": 2
}
